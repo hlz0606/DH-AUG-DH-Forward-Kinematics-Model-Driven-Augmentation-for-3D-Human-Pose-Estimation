{
 "cells": [
  {
   "cell_type": "code",
   "execution_count": 1,
   "metadata": {},
   "outputs": [],
   "source": [
    "import pickle\n",
    "\n",
    "import numpy as np\n",
    "\n",
    "import matplotlib.pyplot as plt"
   ]
  },
  {
   "cell_type": "code",
   "execution_count": 6,
   "metadata": {},
   "outputs": [
    {
     "data": {
      "text/plain": [
       "\"\\n'this file check the 2D pose data'\\n'-----------------'\\n0'Right Ankle', 3\\n1'Right Knee', 2\\n2'Right Hip', 1\\n3'Left Hip', 4\\n4'Left Knee', 5\\n5'Left Ankle', 6\\n6'Right Wrist', 15\\n7'Right Elbow', 14\\n8'Right Shoulder', 13\\n9'Left Shoulder', 10\\n10'Left Elbow', 11\\n11'Left Wrist', 12\\n12'Neck', 8 \\n13'Top of Head', 9\\n14'Pelvis)', 0\\n15'Thorax', 7 \\n16'Spine', mpi3d\\n17'Jaw', mpi3d\\n18'Head', mpi3d\\n\\nmpi3dval: reorder = [14,2,1,0,3,4,5,16,12,18,9,10,11,8,7,6]\\n\""
      ]
     },
     "execution_count": 6,
     "metadata": {},
     "output_type": "execute_result"
    }
   ],
   "source": [
    "\"\"\"\n",
    "'this file check and convert the pose data'\n",
    "'-----------------'\n",
    "0'Right Ankle', 3\n",
    "1'Right Knee', 2\n",
    "2'Right Hip', 1\n",
    "3'Left Hip', 4\n",
    "4'Left Knee', 5\n",
    "5'Left Ankle', 6\n",
    "6'Right Wrist', 15\n",
    "7'Right Elbow', 14\n",
    "8'Right Shoulder', 13\n",
    "9'Left Shoulder', 10\n",
    "10'Left Elbow', 11\n",
    "11'Left Wrist', 12\n",
    "12'Neck', 8 \n",
    "13'Top of Head', 9\n",
    "14'Pelvis)', 0\n",
    "15'Thorax', 7 \n",
    "16'Spine', mpi3d\n",
    "17'Jaw', mpi3d\n",
    "18'Head', mpi3d\n",
    "\n",
    "mpi3dval: reorder = [14,2,1,0,3,4,5,16,12,18,9,10,11,8,7,6]\n",
    "\"\"\""
   ]
  },
  {
   "cell_type": "code",
   "execution_count": 2,
   "metadata": {},
   "outputs": [],
   "source": [
    "import matplotlib.pyplot as plt\n",
    "\n",
    "def show2Dpose(channels, ax, lcolor=\"#3498db\", rcolor=\"#e74c3c\", add_labels=True):\n",
    "    \"\"\"\n",
    "    Visualize a 2d skeleton\n",
    "\n",
    "    Args\n",
    "    channels: 64x1 vector. The pose to plot.\n",
    "    ax: matplotlib axis to draw on\n",
    "    lcolor: color for left part of the body\n",
    "    rcolor: color for right part of the body\n",
    "    add_labels: whether to add coordinate labels\n",
    "    Returns\n",
    "    Nothing. Draws on ax.\n",
    "    \"\"\"\n",
    "    vals = np.reshape( channels, (-1, 2) )\n",
    "    #plt.plot(vals[:,0], vals[:,1], 'ro')\n",
    "    I  = np.array([0,1,2,0,4,5,0,7,8,8,10,11,8,13,14]) # start points\n",
    "    J  = np.array([1,2,3,4,5,6,7,8,9,10,11,12,13,14,15]) # end points\n",
    "    LR = np.array([1,1,1,0,0,0,0, 0, 0, 0, 0, 0, 1, 1, 1], dtype=bool)\n",
    "\n",
    "    # Make connection matrix\n",
    "    for i in np.arange( len(I) ):\n",
    "        x, y = [np.array( [vals[I[i], j], vals[J[i], j]] ) for j in range(2)]\n",
    "        ax.plot(x, -y, lw=2, c=lcolor if LR[i] else rcolor)\n",
    "\n",
    "    RADIUS = 1 # space around the subject\n",
    "    xroot, yroot = vals[0,0], vals[0,1]\n",
    "    \n",
    "    ax.set_xlim([-1, 1])\n",
    "    ax.set_ylim([-1, 1])\n",
    "    \n",
    "    if add_labels:\n",
    "        ax.set_xlabel(\"x\")\n",
    "        ax.set_ylabel(\"-y\")\n",
    "\n",
    "    ax.set_aspect('equal')"
   ]
  },
  {
   "cell_type": "code",
   "execution_count": 3,
   "metadata": {},
   "outputs": [],
   "source": [
    "import matplotlib.pyplot as plt\n",
    "import numpy as np\n",
    "import os\n",
    "from mpl_toolkits.mplot3d import Axes3D\n",
    "\n",
    "def show3Dpose(channels, ax, lcolor=\"#3498db\", rcolor=\"#e74c3c\", add_labels=True,\n",
    "               gt=False,pred=False): # blue, orange\n",
    "    \"\"\"\n",
    "    Visualize a 3d skeleton\n",
    "\n",
    "    Args\n",
    "    channels: 96x1 vector. The pose to plot.\n",
    "    ax: matplotlib 3d axis to draw on\n",
    "    lcolor: color for left part of the body\n",
    "    rcolor: color for right part of the body\n",
    "    add_labels: whether to add coordinate labels\n",
    "    Returns\n",
    "    Nothing. Draws on ax.\n",
    "    \"\"\"\n",
    "\n",
    "    #   assert channels.size == len(data_utils.H36M_NAMES)*3, \"channels should have 96 entries, it has %d instead\" % channels.size\n",
    "    vals = np.reshape( channels, (16, -1) )\n",
    "\n",
    "    I  = np.array([0,1,2,0,4,5,0,7,8,8,10,11,8,13,14]) # start points\n",
    "    J  = np.array([1,2,3,4,5,6,7,8,9,10,11,12,13,14,15]) # end points\n",
    "    LR  = np.array([1,1,1,0,0,0,0, 0, 0, 0, 0, 0, 0, 1, 1, 1], dtype=bool)\n",
    "\n",
    "    # Make connection matrix\n",
    "    for i in np.arange( len(I) ):\n",
    "        x, y, z = [np.array( [vals[I[i], j], vals[J[i], j]] ) for j in range(3)]\n",
    "        if gt:\n",
    "            ax.plot(x,z, -y,  lw=2, c='k')\n",
    "        elif pred:\n",
    "            ax.plot(x,z, -y,  lw=2, c='r')\n",
    "        else:\n",
    "            ax.plot(x, z, -y,  lw=2, c=lcolor if LR[i] else rcolor)\n",
    "\n",
    "    RADIUS = 1 # space around the subject\n",
    "    xroot, yroot, zroot = vals[0,0], vals[0,1], vals[0,2]\n",
    "    ax.set_xlim3d([-RADIUS+xroot, RADIUS+xroot])\n",
    "    ax.set_ylim3d([-RADIUS+zroot, RADIUS+zroot])\n",
    "    ax.set_zlim3d([-RADIUS-yroot, RADIUS-yroot])\n",
    "\n",
    "\n",
    "    if add_labels:\n",
    "        ax.set_xlabel(\"x\")\n",
    "        ax.set_ylabel(\"z\")\n",
    "        ax.set_zlabel(\"-y\")\n",
    "\n",
    "    # Get rid of the panes (actually, make them white)\n",
    "    white = (1.0, 1.0, 1.0, 0.0)\n",
    "    ax.w_xaxis.set_pane_color(white)\n",
    "    ax.w_yaxis.set_pane_color(white)\n",
    "    # Keep z pane\n",
    "\n",
    "    # Get rid of the lines in 3d\n",
    "    ax.w_xaxis.line.set_color(white)\n",
    "    ax.w_yaxis.line.set_color(white)\n",
    "    ax.w_zaxis.line.set_color(white)"
   ]
  },
  {
   "cell_type": "code",
   "execution_count": 7,
   "metadata": {},
   "outputs": [
    {
     "data": {
      "text/plain": [
       "'deal with mpi3dval'"
      ]
     },
     "execution_count": 7,
     "metadata": {},
     "output_type": "execute_result"
    }
   ],
   "source": [
    "'''deal with mpi3dval'''"
   ]
  },
  {
   "cell_type": "code",
   "execution_count": 8,
   "metadata": {},
   "outputs": [
    {
     "name": "stdout",
     "output_type": "stream",
     "text": [
      "['imgname', 'center', 'scale', 'part', 'S']\n"
     ]
    }
   ],
   "source": [
    "# load the download data\n",
    "\n",
    "mpi3dval_path = './dataset_extras/mpi_inf_3dhp_valid.npz'\n",
    "mpi_inf_3dhp_valid = np.load(mpi3dval_path)\n",
    "print(mpi_inf_3dhp_valid.files)"
   ]
  },
  {
   "cell_type": "code",
   "execution_count": 9,
   "metadata": {},
   "outputs": [],
   "source": [
    "# convert the data to a list to processing.\n",
    "\n",
    "mpi3d_val_list = []\n",
    "for i in range(2929):\n",
    "    tmp_dict = {}\n",
    "    tmp_dict['filename'] = mpi_inf_3dhp_valid['imgname'][i]\n",
    "    tmp_dict['kpts2d'] = mpi_inf_3dhp_valid['part'][i]    \n",
    "    tmp_dict['kpts3d'] = mpi_inf_3dhp_valid['S'][i] \n",
    "    \n",
    "    # prepare the image width for 2D keypoint normalization.\n",
    "    if '/TS5/' in tmp_dict['filename']:\n",
    "        tmp_dict['width'] = 1920\n",
    "        tmp_dict['height'] = 1080\n",
    "    elif '/TS6/' in tmp_dict['filename']:\n",
    "        tmp_dict['width'] = 1920\n",
    "        tmp_dict['height'] = 1080\n",
    "    else:\n",
    "        tmp_dict['width'] = 2048\n",
    "        tmp_dict['height'] = 2048\n",
    "    \n",
    "    mpi3d_val_list.append(tmp_dict)\n",
    "    \n"
   ]
  },
  {
   "cell_type": "code",
   "execution_count": null,
   "metadata": {},
   "outputs": [],
   "source": []
  },
  {
   "cell_type": "code",
   "execution_count": 10,
   "metadata": {},
   "outputs": [],
   "source": [
    "\n",
    "def normalize_screen_coordinates(X,mask, w, h):\n",
    "    assert X.shape[-1] == 2\n",
    "\n",
    "    # Normalize so that [0, w] is mapped to [-1, 1], while preserving the aspect ratio\n",
    "    return (X / w * 2 - [1, h / w] ) * mask\n",
    "\n",
    "def get_2d_pose_reorderednormed(source):\n",
    "    reorder = [14,2,1,0,3,4,5,16,12,18,9,10,11,8,7,6]\n",
    "    tmp_array = source['kpts2d'][reorder][:, :2]\n",
    "    mask = source['kpts2d'][reorder][:, 2:]\n",
    "    tmp_array1 = normalize_screen_coordinates(tmp_array, mask, source['width'], source['height'])\n",
    "    return tmp_array1, mask\n",
    "\n",
    "def get_3d_pose_reordered(source):\n",
    "    reorder = [14,2,1,0,3,4,5,16,12,18,9,10,11,8,7,6]\n",
    "    tmp_array = source['kpts3d'][reorder][:, :3]\n",
    "    mask = source['kpts3d'][reorder][:, 3:]\n",
    "    return tmp_array, mask"
   ]
  },
  {
   "cell_type": "code",
   "execution_count": 11,
   "metadata": {},
   "outputs": [],
   "source": [
    "# convert the pose to 16 joints and put into array\n",
    "\n",
    "mpi3d_mask_check = []\n",
    "mpi3d_data_2dpose = []\n",
    "mpi3d_data_3dpose = []\n",
    "\n",
    "for source in mpi3d_val_list:\n",
    "    tmp2d, tmp_2dmask = get_2d_pose_reorderednormed(source)\n",
    "    tmp3d, tmp_3dmask = get_3d_pose_reordered(source)\n",
    "    assert np.sum(np.abs(tmp_2dmask - tmp_3dmask))== 0\n",
    "#     mask_check.append(tmp_2dmask)\n",
    "\n",
    "    if not np.sum(tmp_2dmask) == (len(tmp_2dmask)):\n",
    "        mpi3d_mask_check.append(tmp_2dmask)\n",
    "        \n",
    "    mpi3d_data_2dpose.append(tmp2d)\n",
    "    mpi3d_data_3dpose.append(tmp3d)\n",
    "\n",
    "mpi3d_data_2dpose = np.array(mpi3d_data_2dpose)  \n",
    "mpi3d_data_3dpose = np.array(mpi3d_data_3dpose)  "
   ]
  },
  {
   "cell_type": "code",
   "execution_count": 12,
   "metadata": {},
   "outputs": [
    {
     "data": {
      "text/plain": [
       "0"
      ]
     },
     "execution_count": 12,
     "metadata": {},
     "output_type": "execute_result"
    }
   ],
   "source": [
    "len(mpi3d_mask_check)"
   ]
  },
  {
   "cell_type": "code",
   "execution_count": 13,
   "metadata": {},
   "outputs": [
    {
     "name": "stdout",
     "output_type": "stream",
     "text": [
      "(2929, 16, 3)\n",
      "(2929, 16, 2)\n"
     ]
    }
   ],
   "source": [
    "# save the npz for test purpose\n",
    "\n",
    "print(mpi3d_data_3dpose.shape)\n",
    "print(mpi3d_data_2dpose.shape)\n",
    "np.savez('./test_set/test_3dhp.npz',pose3d=mpi3d_data_3dpose,pose2d=mpi3d_data_2dpose)"
   ]
  },
  {
   "cell_type": "code",
   "execution_count": 16,
   "metadata": {},
   "outputs": [],
   "source": [
    "# load and check\n",
    "mpi3d_npz = np.load('./test_set/test_3dhp.npz')"
   ]
  },
  {
   "cell_type": "code",
   "execution_count": 17,
   "metadata": {},
   "outputs": [
    {
     "data": {
      "text/plain": [
       "(2929, 16, 2)"
      ]
     },
     "execution_count": 17,
     "metadata": {},
     "output_type": "execute_result"
    }
   ],
   "source": [
    "np.concatenate([mpi3d_npz['pose2d']]).shape"
   ]
  },
  {
   "cell_type": "code",
   "execution_count": 23,
   "metadata": {},
   "outputs": [],
   "source": [
    "# show some pose from self defined idx\n",
    "idx = 1200 "
   ]
  },
  {
   "cell_type": "code",
   "execution_count": 24,
   "metadata": {},
   "outputs": [
    {
     "data": {
      "text/plain": [
       "'mpi_inf_3dhp_test_set/TS3/imageSequence/img_000751.jpg'"
      ]
     },
     "execution_count": 24,
     "metadata": {},
     "output_type": "execute_result"
    }
   ],
   "source": [
    "mpi3d_val_list[idx]['filename']"
   ]
  },
  {
   "cell_type": "code",
   "execution_count": 25,
   "metadata": {},
   "outputs": [
    {
     "data": {
      "image/png": "[encoded data removed]",
      "text/plain": [
       "<Figure size 432x288 with 1 Axes>"
      ]
     },
     "metadata": {
      "needs_background": "light"
     },
     "output_type": "display_data"
    }
   ],
   "source": [
    "vals2d = mpi3d_data_2dpose[idx]\n",
    "ax2d = plt.axes()\n",
    "show2Dpose(vals2d, ax2d)\n",
    "plt.show()"
   ]
  },
  {
   "cell_type": "code",
   "execution_count": 26,
   "metadata": {},
   "outputs": [
    {
     "data": {
      "image/png": "[encoded data removed]",
      "text/plain": [
       "<Figure size 432x288 with 1 Axes>"
      ]
     },
     "metadata": {
      "needs_background": "light"
     },
     "output_type": "display_data"
    }
   ],
   "source": [
    "vals3d = mpi3d_data_3dpose[idx]\n",
    "fig3d = plt.figure()\n",
    "# ax = fig.add_subplot(1, 1, 1, projection='3d')\n",
    "ax3d = Axes3D(fig3d)\n",
    "show3Dpose(vals3d, ax3d)\n",
    "plt.show()"
   ]
  },
  {
   "cell_type": "code",
   "execution_count": null,
   "metadata": {},
   "outputs": [],
   "source": []
  }
 ],
 "metadata": {
  "kernelspec": {
   "display_name": "Python 3",
   "language": "python",
   "name": "python3"
  },
  "language_info": {
   "codemirror_mode": {
    "name": "ipython",
    "version": 3
   },
   "file_extension": ".py",
   "mimetype": "text/x-python",
   "name": "python",
   "nbconvert_exporter": "python",
   "pygments_lexer": "ipython3",
   "version": "3.6.9"
  }
 },
 "nbformat": 4,
 "nbformat_minor": 2
}
